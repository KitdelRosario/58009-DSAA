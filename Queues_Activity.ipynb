{
  "nbformat": 4,
  "nbformat_minor": 0,
  "metadata": {
    "colab": {
      "provenance": [],
      "authorship_tag": "ABX9TyMdJBnmlnVdXqOipqUqkLdy",
      "include_colab_link": true
    },
    "kernelspec": {
      "name": "python3",
      "display_name": "Python 3"
    },
    "language_info": {
      "name": "python"
    }
  },
  "cells": [
    {
      "cell_type": "markdown",
      "metadata": {
        "id": "view-in-github",
        "colab_type": "text"
      },
      "source": [
        "<a href=\"https://colab.research.google.com/github/KitdelRosario/58009-DSAA/blob/main/Queues_Activity.ipynb\" target=\"_parent\"><img src=\"https://colab.research.google.com/assets/colab-badge.svg\" alt=\"Open In Colab\"/></a>"
      ]
    },
    {
      "cell_type": "code",
      "execution_count": 7,
      "metadata": {
        "colab": {
          "base_uri": "https://localhost:8080/"
        },
        "id": "azpeOncii1cT",
        "outputId": "54a70f94-14c6-4bb5-edb9-c4629a024b7b"
      },
      "outputs": [
        {
          "output_type": "stream",
          "name": "stdout",
          "text": [
            "['A', 'B', 'C']\n",
            "A\n",
            "B\n",
            "['C']\n"
          ]
        }
      ],
      "source": [
        "queue = []\n",
        "#enqueue items into queue\n",
        "queue.append('A')\n",
        "queue.append('B')\n",
        "queue.append('C')\n",
        "print(queue)\n",
        "\n",
        "#dequeue items from the list\n",
        "print(queue.pop(0))\n",
        "print(queue.pop(0))\n",
        "print(queue)"
      ]
    },
    {
      "cell_type": "code",
      "source": [
        "queue = []\n",
        "\n",
        "i = 1\n",
        "\n",
        "print(\"Welcome to Queue Builder!\")\n",
        "while i<2:\n",
        "  a = str(input(\"Type A to add; Type R to remove; Type E to end the program: \"))\n",
        "  if a == 'A':\n",
        "    Name = str(input(\"Enter a Name: \"))\n",
        "    queue.append(Name)\n",
        "    print(queue)\n",
        "    i=1\n",
        "    continue\n",
        "\n",
        "  elif a == 'R':\n",
        "    index = int(input(\"Enter the Index of the name you want to remove: \"))\n",
        "    queue.pop(index)\n",
        "    print(queue)\n",
        "    i=1\n",
        "    continue\n",
        "\n",
        "  elif a =='E':\n",
        "    print(\"Thank you for using the program!\")\n",
        "    i=2\n",
        "\n",
        "  else:\n",
        "    print(\"Enter a valid letter!\")\n",
        "    continue\n",
        "\n",
        "\n",
        "\n",
        "\n"
      ],
      "metadata": {
        "colab": {
          "base_uri": "https://localhost:8080/"
        },
        "id": "R1E6aqxlsEP1",
        "outputId": "5d3831e5-9262-4047-cdef-7a0c343215a4"
      },
      "execution_count": 53,
      "outputs": [
        {
          "output_type": "stream",
          "name": "stdout",
          "text": [
            "Welcome to Queue Builder!\n",
            "Type A to add; Type R to remove; Type E to end the program: A\n",
            "Enter a Name: Kit\n",
            "['Kit']\n",
            "Type A to add; Type R to remove; Type E to end the program: A\n",
            "Enter a Name: Aldrich\n",
            "['Kit', 'Aldrich']\n",
            "Type A to add; Type R to remove; Type E to end the program: R\n",
            "Enter the Index of the name you want to remove: 1\n",
            "['Kit']\n",
            "Type A to add; Type R to remove; Type E to end the program: E\n",
            "Thank you for using the program!\n"
          ]
        }
      ]
    }
  ]
}