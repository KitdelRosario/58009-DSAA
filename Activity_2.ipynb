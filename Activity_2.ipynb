{
  "nbformat": 4,
  "nbformat_minor": 0,
  "metadata": {
    "colab": {
      "provenance": [],
      "authorship_tag": "ABX9TyO4hkvEiO0tmn6Wa3eVWg5O",
      "include_colab_link": true
    },
    "kernelspec": {
      "name": "python3",
      "display_name": "Python 3"
    },
    "language_info": {
      "name": "python"
    }
  },
  "cells": [
    {
      "cell_type": "markdown",
      "metadata": {
        "id": "view-in-github",
        "colab_type": "text"
      },
      "source": [
        "<a href=\"https://colab.research.google.com/github/KitdelRosario/58009-DSAA/blob/main/Activity_2.ipynb\" target=\"_parent\"><img src=\"https://colab.research.google.com/assets/colab-badge.svg\" alt=\"Open In Colab\"/></a>"
      ]
    },
    {
      "cell_type": "code",
      "execution_count": 9,
      "metadata": {
        "colab": {
          "base_uri": "https://localhost:8080/"
        },
        "id": "p9haMTsXpDJN",
        "outputId": "79b54975-89b8-411d-e60b-73545908dfcf"
      },
      "outputs": [
        {
          "output_type": "stream",
          "name": "stdout",
          "text": [
            "Prime Numbers:  [2, 3, 5, 7, 11, 13, 17, 19]\n",
            "Head of the list:  2\n",
            "Tail of the list:  19\n"
          ]
        }
      ],
      "source": [
        "class Node:\n",
        "  def __init__(self, data):\n",
        "      self.data = data\n",
        "      self.next = None\n",
        "\n",
        "class LinkedList:\n",
        "  def __init__(self):\n",
        "      self.head = None\n",
        "      self.tail = None\n",
        "\n",
        "  def append(self, data):\n",
        "      new_node = Node(data)\n",
        "      if self.head is None:\n",
        "        self.head = new_node\n",
        "        self.tail = new_node\n",
        "      else:\n",
        "        self.tail.next = new_node\n",
        "        self.tail = new_node\n",
        "\n",
        "def prime(n):\n",
        "  if n<=1:\n",
        "    return False\n",
        "  if n<=3:\n",
        "    return True\n",
        "  if n % 2 == 0 or n % 3 == 0:\n",
        "    return False\n",
        "\n",
        "  i = 5\n",
        "  while i * i <=n:\n",
        "    if n % i == 0 or n % (i+2) == 0:\n",
        "      return False\n",
        "\n",
        "    i+=6\n",
        "  return True\n",
        "\n",
        "prime_list = LinkedList()\n",
        "for num in range(2,20):\n",
        "  if prime(num):\n",
        "    prime_list.append(num)\n",
        "\n",
        "current = prime_list.head\n",
        "\n",
        "Array = []\n",
        "\n",
        "while current:\n",
        "  Array.append(current.data)\n",
        "  current = current.next\n",
        "\n",
        "print(\"Prime Numbers: \", Array)\n",
        "if prime_list.head:\n",
        "  print(\"Head of the list: \",prime_list.head.data)\n",
        "  print(\"Tail of the list: \",prime_list.tail.data)\n",
        "\n",
        "else:\n",
        "  print(\"The list is empty\")"
      ]
    }
  ]
}