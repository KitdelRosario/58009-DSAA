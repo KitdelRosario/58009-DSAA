{
  "nbformat": 4,
  "nbformat_minor": 0,
  "metadata": {
    "colab": {
      "provenance": [],
      "authorship_tag": "ABX9TyMHTw4PMeUwkecs8A+PIlt1",
      "include_colab_link": true
    },
    "kernelspec": {
      "name": "python3",
      "display_name": "Python 3"
    },
    "language_info": {
      "name": "python"
    }
  },
  "cells": [
    {
      "cell_type": "markdown",
      "metadata": {
        "id": "view-in-github",
        "colab_type": "text"
      },
      "source": [
        "<a href=\"https://colab.research.google.com/github/KitdelRosario/58009-DSAA/blob/main/Prelim_Exam.ipynb\" target=\"_parent\"><img src=\"https://colab.research.google.com/assets/colab-badge.svg\" alt=\"Open In Colab\"/></a>"
      ]
    },
    {
      "cell_type": "markdown",
      "source": [
        "***Open your Python (Pycharm or Colab) or Dev C++ to create the source code for adding the test scores 26, 49, 98, 87, 62, 75 (30 points)***"
      ],
      "metadata": {
        "id": "XeRhO34U8XOD"
      }
    },
    {
      "cell_type": "code",
      "execution_count": 11,
      "metadata": {
        "colab": {
          "base_uri": "https://localhost:8080/"
        },
        "id": "NSBrZS5bz7Vo",
        "outputId": "2b37f0f7-48a8-412d-ae98-ce32e85c8537"
      },
      "outputs": [
        {
          "output_type": "stream",
          "name": "stdout",
          "text": [
            "The sum is:  397\n"
          ]
        }
      ],
      "source": [
        "numbers = [26, 49, 98, 87, 62, 75]\n",
        "sums = sum(numbers)\n",
        "print(\"The sum is: \",sums)"
      ]
    },
    {
      "cell_type": "markdown",
      "source": [
        "***Create a program to sort the test scores in ascending order (20 points)***"
      ],
      "metadata": {
        "id": "rSFbxKk18ZGJ"
      }
    },
    {
      "cell_type": "code",
      "source": [
        "numbers = [26, 49, 98, 87, 62, 75]\n",
        "numbers.sort()\n",
        "print(numbers)\n"
      ],
      "metadata": {
        "colab": {
          "base_uri": "https://localhost:8080/"
        },
        "id": "6CC63rww8cUa",
        "outputId": "34aaafe9-b4d6-4942-f75b-13f0a9928ab0"
      },
      "execution_count": 10,
      "outputs": [
        {
          "output_type": "stream",
          "name": "stdout",
          "text": [
            "[26, 49, 62, 75, 87, 98]\n"
          ]
        }
      ]
    }
  ]
}