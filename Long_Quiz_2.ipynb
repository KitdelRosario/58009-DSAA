{
  "nbformat": 4,
  "nbformat_minor": 0,
  "metadata": {
    "colab": {
      "provenance": [],
      "authorship_tag": "ABX9TyNt0rq462pIUFlC5zJX7/rS",
      "include_colab_link": true
    },
    "kernelspec": {
      "name": "python3",
      "display_name": "Python 3"
    },
    "language_info": {
      "name": "python"
    }
  },
  "cells": [
    {
      "cell_type": "markdown",
      "metadata": {
        "id": "view-in-github",
        "colab_type": "text"
      },
      "source": [
        "<a href=\"https://colab.research.google.com/github/KitdelRosario/58009-DSAA/blob/main/Long_Quiz_2.ipynb\" target=\"_parent\"><img src=\"https://colab.research.google.com/assets/colab-badge.svg\" alt=\"Open In Colab\"/></a>"
      ]
    },
    {
      "cell_type": "code",
      "execution_count": 6,
      "metadata": {
        "colab": {
          "base_uri": "https://localhost:8080/"
        },
        "id": "x14owT2zpZJm",
        "outputId": "6de6e651-4a65-4dd1-cd93-acfa81875323"
      },
      "outputs": [
        {
          "output_type": "stream",
          "name": "stdout",
          "text": [
            "[{'I', 'E'}, {'E', 'J'}, {'E', 'K'}, {'E', 'M'}, {'I', 'F'}, {'J', 'F'}, {'K', 'F'}, {'P', 'F'}, {'I', 'H'}, {'J', 'H'}, {'H', 'K'}]\n"
          ]
        }
      ],
      "source": [
        "class graph:\n",
        "  def __init__(self,gdict=None):\n",
        "    if gdict is None:\n",
        "      gdict = {}\n",
        "    self.gdict = gdict\n",
        "\n",
        "  def edges(self):\n",
        "      return self.fedges()\n",
        "\n",
        "  def fedges(self):\n",
        "    edgename = []\n",
        "    for vrtx in self.gdict:\n",
        "      for nxtvrtx in self.gdict[vrtx]:\n",
        "        if {nxtvrtx, vrtx} not in edgename:\n",
        "          edgename.append({vrtx, nxtvrtx})\n",
        "    return edgename\n",
        "\n",
        "\n",
        "graph_elements = {\n",
        "    'E' : ['I','J','K','M'],\n",
        "    'F' : ['I','J','K','P'],\n",
        "    'H' : ['I','J','K'],\n",
        "    'I' : ['E','F','H'],\n",
        "    'J' : ['E','F','H'],\n",
        "    'K' : ['E','F','H'],\n",
        "    'M' : ['E'],\n",
        "    'P' : ['F'],\n",
        "    }\n",
        "g = graph(graph_elements)\n",
        "print(g.edges())\n",
        "\n"
      ]
    },
    {
      "cell_type": "code",
      "source": [
        "class graph:\n",
        "   def __init__(self,gdict=None):\n",
        "      if gdict is None:\n",
        "         gdict = []\n",
        "      self.gdict = gdict\n",
        "\n",
        "   def vertices(self):\n",
        "      return list(self.gdict.keys())\n",
        "\n",
        "graph_elements = {\n",
        "  'E' : ['I','J','K','M'],\n",
        "  'F' : ['I','J','K','P'],\n",
        "  'H' : ['I','J','K'],\n",
        "  'I' : ['E','F','H'],\n",
        "  'J' : ['E','F','H'],\n",
        "  'K' : ['E','F','H'],\n",
        "  'M' : ['E'],\n",
        "  'P' : ['F'],\n",
        "}\n",
        "g = graph(graph_elements)\n",
        "print(g.vertices())"
      ],
      "metadata": {
        "colab": {
          "base_uri": "https://localhost:8080/"
        },
        "id": "V0y9jR-VthSt",
        "outputId": "1e0aed80-9292-4719-ce81-c89b98122aa7"
      },
      "execution_count": 5,
      "outputs": [
        {
          "output_type": "stream",
          "name": "stdout",
          "text": [
            "['E', 'F', 'H', 'I', 'J', 'K', 'M', 'P']\n"
          ]
        }
      ]
    }
  ]
}