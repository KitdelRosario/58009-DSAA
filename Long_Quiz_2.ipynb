{
  "nbformat": 4,
  "nbformat_minor": 0,
  "metadata": {
    "colab": {
      "provenance": [],
      "authorship_tag": "ABX9TyOvJ6BWlg3C91He8L3XPZmO",
      "include_colab_link": true
    },
    "kernelspec": {
      "name": "python3",
      "display_name": "Python 3"
    },
    "language_info": {
      "name": "python"
    }
  },
  "cells": [
    {
      "cell_type": "markdown",
      "metadata": {
        "id": "view-in-github",
        "colab_type": "text"
      },
      "source": [
        "<a href=\"https://colab.research.google.com/github/KitdelRosario/58009-DSAA/blob/main/Long_Quiz_2.ipynb\" target=\"_parent\"><img src=\"https://colab.research.google.com/assets/colab-badge.svg\" alt=\"Open In Colab\"/></a>"
      ]
    },
    {
      "cell_type": "code",
      "execution_count": 3,
      "metadata": {
        "colab": {
          "base_uri": "https://localhost:8080/"
        },
        "id": "x14owT2zpZJm",
        "outputId": "77281365-5825-4615-b870-f1cd435f2958"
      },
      "outputs": [
        {
          "output_type": "stream",
          "name": "stdout",
          "text": [
            "[{'I', 'E'}, {'E', 'J'}, {'E', 'K'}, {'I', 'F'}, {'J', 'F'}, {'K', 'F'}, {'I', 'H'}, {'J', 'H'}, {'H', 'K'}, {'E', 'M'}, {'F', 'P'}]\n"
          ]
        }
      ],
      "source": [
        "class graph:\n",
        "  def __init__(self,gdict=None):\n",
        "    if gdict is None:\n",
        "      gdict = {}\n",
        "    self.gdict = gdict\n",
        "\n",
        "  def edges(self):\n",
        "      return self.fedges()\n",
        "\n",
        "  def fedges(self):\n",
        "    edgename = []\n",
        "    for vrtx in self.gdict:\n",
        "      for nxtvrtx in self.gdict[vrtx]:\n",
        "        if {nxtvrtx, vrtx} not in edgename:\n",
        "          edgename.append({vrtx, nxtvrtx})\n",
        "    return edgename\n",
        "\n",
        "\n",
        "graph_elements = {\n",
        "    'E' : ['I','J','K'],\n",
        "    'F' : ['I','J','K'],\n",
        "    'H' : ['I','J','K'],\n",
        "    'I' : ['E','F','H'],\n",
        "    'J' : ['E','F','H'],\n",
        "    'K' : ['E','F','H'],\n",
        "    'M' : ['E'],\n",
        "    'P' : ['F'],\n",
        "    }\n",
        "g = graph(graph_elements)\n",
        "print(g.edges())\n",
        "\n"
      ]
    },
    {
      "cell_type": "code",
      "source": [
        "class graph:\n",
        "   def __init__(self,gdict=None):\n",
        "      if gdict is None:\n",
        "         gdict = []\n",
        "      self.gdict = gdict\n",
        "\n",
        "   def vertices(self):\n",
        "      return list(self.gdict.keys())\n",
        "\n",
        "graph_elements = {\n",
        "  'E' : ['I','J','K'],\n",
        "  'F' : ['I','J','K'],\n",
        "  'H' : ['I','J','K'],\n",
        "  'I' : ['E','F','H'],\n",
        "  'J' : ['E','F','H'],\n",
        "  'K' : ['E','F','H'],\n",
        "  'M' : ['E'],\n",
        "  'P' : ['F'],\n",
        "}\n",
        "g = graph(graph_elements)\n",
        "print(g.vertices())"
      ],
      "metadata": {
        "colab": {
          "base_uri": "https://localhost:8080/"
        },
        "id": "V0y9jR-VthSt",
        "outputId": "3cbd0760-4923-42a6-96d6-72cf80ef1967"
      },
      "execution_count": 4,
      "outputs": [
        {
          "output_type": "stream",
          "name": "stdout",
          "text": [
            "['E', 'F', 'H', 'I', 'J', 'K', 'M', 'P']\n"
          ]
        }
      ]
    }
  ]
}