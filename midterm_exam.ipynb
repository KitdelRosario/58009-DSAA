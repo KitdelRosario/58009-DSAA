{
  "nbformat": 4,
  "nbformat_minor": 0,
  "metadata": {
    "colab": {
      "provenance": [],
      "authorship_tag": "ABX9TyNypaqetVOGAuKJwRrPjCYc",
      "include_colab_link": true
    },
    "kernelspec": {
      "name": "python3",
      "display_name": "Python 3"
    },
    "language_info": {
      "name": "python"
    }
  },
  "cells": [
    {
      "cell_type": "markdown",
      "metadata": {
        "id": "view-in-github",
        "colab_type": "text"
      },
      "source": [
        "<a href=\"https://colab.research.google.com/github/KitdelRosario/58009-DSAA/blob/main/midterm_exam.ipynb\" target=\"_parent\"><img src=\"https://colab.research.google.com/assets/colab-badge.svg\" alt=\"Open In Colab\"/></a>"
      ]
    },
    {
      "cell_type": "markdown",
      "source": [
        "***EDGES***"
      ],
      "metadata": {
        "id": "00AY50UCQfRZ"
      }
    },
    {
      "cell_type": "code",
      "execution_count": 2,
      "metadata": {
        "colab": {
          "base_uri": "https://localhost:8080/"
        },
        "id": "m-djgJtuH-H4",
        "outputId": "47936b15-40d1-4eba-ca55-e1e26dbf32f8"
      },
      "outputs": [
        {
          "output_type": "stream",
          "name": "stdout",
          "text": [
            "[{'B', 'A'}, {'B', 'C'}, {'B', 'E'}, {'B', 'F'}, {'C', 'D'}, {'C', 'E'}, {'C', 'F'}, {'C', 'I'}, {'C', 'M'}, {'D', 'L'}, {'D', 'K'}, {'N', 'E'}, {'G', 'F'}, {'I', 'F'}, {'G', 'I'}, {'G', 'J'}, {'J', 'I'}, {'K', 'I'}, {'J', 'K'}, {'M', 'L'}, {'P', 'L'}, {'N', 'M'}, {'M', 'O'}, {'P', 'M'}, {'N', 'O'}, {'P', 'O'}]\n"
          ]
        }
      ],
      "source": [
        "class graph:\n",
        "  def __init__(self,gdict=None):\n",
        "    if gdict is None:\n",
        "      gdict = {}\n",
        "    self.gdict = gdict\n",
        "\n",
        "  def edges(self):\n",
        "      return self.fedges()\n",
        "\n",
        "  def fedges(self):\n",
        "    edgename = []\n",
        "    for vrtx in self.gdict:\n",
        "      for nxtvrtx in self.gdict[vrtx]:\n",
        "        if {nxtvrtx, vrtx} not in edgename:\n",
        "          edgename.append({vrtx, nxtvrtx})\n",
        "    return edgename\n",
        "\n",
        "\n",
        "graph_elements = {\n",
        "    'A' : ['B'],\n",
        "    'B' : ['A','C','E','F'],\n",
        "    'C' : ['B','D','E','F','I','M'],\n",
        "    'D' : ['C','L','K'],\n",
        "    'E' : ['B','C','N'],\n",
        "    'F' : ['B','C','G','I'],\n",
        "    'G' : ['F','I','J'],\n",
        "    'I' : ['G','J','F','C','K'],\n",
        "    'J' : ['G','I','K'],\n",
        "    'K' : ['I','J','D'],\n",
        "    'L' : ['D','M','P'],\n",
        "    'M' : ['N','O','P','C','L'],\n",
        "    'N' : ['O','M','E'],\n",
        "    'O' : ['N','M','P'],\n",
        "    'P' : ['M','L','O'],\n",
        "    }\n",
        "g = graph(graph_elements)\n",
        "print(g.edges())\n"
      ]
    },
    {
      "cell_type": "markdown",
      "source": [
        "***VERTICES***"
      ],
      "metadata": {
        "id": "lC89c1rnQi_4"
      }
    },
    {
      "cell_type": "code",
      "source": [
        "class graph:\n",
        "   def __init__(self,gdict=None):\n",
        "      if gdict is None:\n",
        "         gdict = []\n",
        "      self.gdict = gdict\n",
        "\n",
        "   def vertices(self):\n",
        "      return list(self.gdict.keys())\n",
        "\n",
        "graph_elements = {\n",
        "    'A' : ['B'],\n",
        "    'B' : ['A','C','E','F'],\n",
        "    'C' : ['B','D','E','F','I','M'],\n",
        "    'D' : ['C','L','K'],\n",
        "    'E' : ['B','C','N'],\n",
        "    'F' : ['B','C','G','I'],\n",
        "    'G' : ['F','I','J'],\n",
        "    'I' : ['G','J','F','C','K'],\n",
        "    'J' : ['G','I','K'],\n",
        "    'K' : ['I','J','D'],\n",
        "    'L' : ['D','M','P'],\n",
        "    'M' : ['N','O','P','C','L'],\n",
        "    'N' : ['O','M','E'],\n",
        "    'O' : ['N','M','P'],\n",
        "    'P' : ['M','L','O'],\n",
        "}\n",
        "g = graph(graph_elements)\n",
        "print(g.vertices())"
      ],
      "metadata": {
        "colab": {
          "base_uri": "https://localhost:8080/"
        },
        "id": "gQNKSf2EOMXu",
        "outputId": "661a6d42-b2cd-40e0-aeeb-2d118bea46a4"
      },
      "execution_count": 3,
      "outputs": [
        {
          "output_type": "stream",
          "name": "stdout",
          "text": [
            "['A', 'B', 'C', 'D', 'E', 'F', 'G', 'I', 'J', 'K', 'L', 'M', 'N', 'O', 'P']\n"
          ]
        }
      ]
    }
  ]
}