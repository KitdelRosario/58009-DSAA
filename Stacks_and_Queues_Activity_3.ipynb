{
  "nbformat": 4,
  "nbformat_minor": 0,
  "metadata": {
    "colab": {
      "provenance": [],
      "authorship_tag": "ABX9TyNqVbDxJyzT1F+nFwrSmuKn",
      "include_colab_link": true
    },
    "kernelspec": {
      "name": "python3",
      "display_name": "Python 3"
    },
    "language_info": {
      "name": "python"
    }
  },
  "cells": [
    {
      "cell_type": "markdown",
      "metadata": {
        "id": "view-in-github",
        "colab_type": "text"
      },
      "source": [
        "<a href=\"https://colab.research.google.com/github/KitdelRosario/58009-DSAA/blob/main/Stacks_and_Queues_Activity_3.ipynb\" target=\"_parent\"><img src=\"https://colab.research.google.com/assets/colab-badge.svg\" alt=\"Open In Colab\"/></a>"
      ]
    },
    {
      "cell_type": "markdown",
      "source": [
        "***Stacks***"
      ],
      "metadata": {
        "id": "TgWo1dHk27SP"
      }
    },
    {
      "cell_type": "code",
      "execution_count": 20,
      "metadata": {
        "colab": {
          "base_uri": "https://localhost:8080/"
        },
        "id": "wifTopORyf-z",
        "outputId": "4b923ae8-7cab-499c-8b17-e1ac6c714098"
      },
      "outputs": [
        {
          "output_type": "stream",
          "name": "stdout",
          "text": [
            "['Mon', 'Tue', 'Wed', 'Thu', 'Fri', 'Sat', 'Sun']\n",
            "Sun\n",
            "['Mon', 'Tue', 'Wed', 'Thu', 'Fri', 'Sat']\n"
          ]
        }
      ],
      "source": [
        "class Stack:\n",
        "  def __init__(self):\n",
        "    self.stack = []\n",
        "\n",
        "  def add(self, dataval):\n",
        "    if dataval not in self.stack:\n",
        "        self.stack.append(dataval)\n",
        "        return True\n",
        "    else:\n",
        "      return False\n",
        "\n",
        "  def remove(self):\n",
        "    if len(self.stack) <= 0:\n",
        "      return (\"No element in the Stack\")\n",
        "    else:\n",
        "      return self.stack.pop()\n",
        "\n",
        "AStack = Stack()\n",
        "AStack.add(\"Mon\")\n",
        "AStack.add(\"Tue\")\n",
        "AStack.add(\"Wed\")\n",
        "AStack.add(\"Thu\")\n",
        "AStack.add(\"Fri\")\n",
        "AStack.add(\"Sat\")\n",
        "AStack.add(\"Sun\")\n",
        "print(AStack.stack)\n",
        "print(AStack.remove())\n",
        "print(AStack.stack)"
      ]
    },
    {
      "cell_type": "markdown",
      "source": [
        "***ACTIVITY 3***"
      ],
      "metadata": {
        "id": "NhbM1VTf2_kv"
      }
    },
    {
      "cell_type": "code",
      "source": [
        "# Stack implementation in python\n",
        "\n",
        "# Creating a stack\n",
        "\n",
        "def create_stack():\n",
        "\n",
        "    stack = []\n",
        "\n",
        "    return stack\n",
        "\n",
        "\n",
        "# Creating an empty stack\n",
        "\n",
        "def is_empty(stack):\n",
        "\n",
        "    return len(stack) == 0\n",
        "\n",
        "\n",
        "# Adding items into the stack\n",
        "\n",
        "def push(stack, item):\n",
        "\n",
        "    stack.append(item)\n",
        "\n",
        "    print(\"Pushed Element: \" + item)\n",
        "\n",
        "\n",
        "\n",
        "# Removing an element from the stack\n",
        "\n",
        "def pop(stack):\n",
        "\n",
        "    if (is_empty(stack)):\n",
        "\n",
        "        return \"The stack is empty\"\n",
        "\n",
        "    return stack.pop()\n",
        "\n",
        "\n",
        "stack = create_stack()\n",
        "push(stack, str(1))\n",
        "push(stack, str(2))\n",
        "push(stack, str(3))\n",
        "push(stack, str(4))\n",
        "push(stack, str(5))\n",
        "stack.pop()\n",
        "stack.pop()\n",
        "stack.pop()\n",
        "print(\"The size of the stack is: \",len(stack))\n",
        "print(\"The elements in the stack are:\"+ str(stack))"
      ],
      "metadata": {
        "colab": {
          "base_uri": "https://localhost:8080/"
        },
        "id": "tdy3GKfW3Bq0",
        "outputId": "05f47463-34b8-452d-b5d2-34d659bcec09"
      },
      "execution_count": 30,
      "outputs": [
        {
          "output_type": "stream",
          "name": "stdout",
          "text": [
            "Pushed Element: 1\n",
            "Pushed Element: 2\n",
            "Pushed Element: 3\n",
            "Pushed Element: 4\n",
            "Pushed Element: 5\n",
            "The size of the stack is:  2\n",
            "The elements in the stack are:['1', '2']\n"
          ]
        }
      ]
    }
  ]
}