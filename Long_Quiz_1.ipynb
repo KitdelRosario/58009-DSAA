{
  "nbformat": 4,
  "nbformat_minor": 0,
  "metadata": {
    "colab": {
      "provenance": [],
      "authorship_tag": "ABX9TyNyN+oiSvsArFHimZgYzY+N",
      "include_colab_link": true
    },
    "kernelspec": {
      "name": "python3",
      "display_name": "Python 3"
    },
    "language_info": {
      "name": "python"
    }
  },
  "cells": [
    {
      "cell_type": "markdown",
      "metadata": {
        "id": "view-in-github",
        "colab_type": "text"
      },
      "source": [
        "<a href=\"https://colab.research.google.com/github/KitdelRosario/58009-DSAA/blob/main/Long_Quiz_1.ipynb\" target=\"_parent\"><img src=\"https://colab.research.google.com/assets/colab-badge.svg\" alt=\"Open In Colab\"/></a>"
      ]
    },
    {
      "cell_type": "markdown",
      "source": [
        "***1.) Create a python or C++ program that appends each character of your full name and displays each character in reverse order (50 points)***"
      ],
      "metadata": {
        "id": "GvbJVo4a9v9n"
      }
    },
    {
      "cell_type": "code",
      "execution_count": 28,
      "metadata": {
        "colab": {
          "base_uri": "https://localhost:8080/"
        },
        "id": "A-OkzkPL6Z-4",
        "outputId": "dfc11ed3-e688-47c5-d962-a39709f73488"
      },
      "outputs": [
        {
          "output_type": "stream",
          "name": "stdout",
          "text": [
            "Input how many letters: 20\n",
            "Enter the letter of your name:k\n",
            "Enter the letter of your name:i\n",
            "Enter the letter of your name:t\n",
            "Enter the letter of your name:a\n",
            "Enter the letter of your name:l\n",
            "Enter the letter of your name:d\n",
            "Enter the letter of your name:r\n",
            "Enter the letter of your name:i\n",
            "Enter the letter of your name:c\n",
            "Enter the letter of your name:h\n",
            "Enter the letter of your name:d\n",
            "Enter the letter of your name:e\n",
            "Enter the letter of your name:l\n",
            "Enter the letter of your name:r\n",
            "Enter the letter of your name:o\n",
            "Enter the letter of your name:s\n",
            "Enter the letter of your name:a\n",
            "Enter the letter of your name:r\n",
            "Enter the letter of your name:i\n",
            "Enter the letter of your name:o\n",
            "Original Order:  ['k', 'i', 't', 'a', 'l', 'd', 'r', 'i', 'c', 'h', 'd', 'e', 'l', 'r', 'o', 's', 'a', 'r', 'i', 'o']\n",
            "Reverse Order:  ['o', 'i', 'r', 'a', 's', 'o', 'r', 'l', 'e', 'd', 'h', 'c', 'i', 'r', 'd', 'l', 'a', 't', 'i', 'k']\n"
          ]
        }
      ],
      "source": [
        "letters = []\n",
        "y = int(input(\"Input how many letters: \"))\n",
        "for x in range(1, y+1 , 1):\n",
        "  i = input(\"Enter the letter of your name:\")\n",
        "  letters.append(i)\n",
        "print(\"Original Order: \",letters)\n",
        "letters.reverse()\n",
        "print(\"Reverse Order: \",letters)"
      ]
    },
    {
      "cell_type": "markdown",
      "source": [
        "***2.) Using the set of positive whole numbers from 1 to 10, create a python or C++ program that displays if it is prime or composite. (50 points)***"
      ],
      "metadata": {
        "id": "dvpEoodV90Ou"
      }
    },
    {
      "cell_type": "code",
      "source": [
        "num = [1,2,3,4,5,6,7,8,9,10]\n",
        "\n",
        "i=0\n",
        "for x in range(1,11,1):\n",
        "  if num[i] > 1:\n",
        "    for m in range(2, int(num[i]/2)+1):\n",
        "\n",
        "        if (num[i] % m) == 0:\n",
        "            print(num[i], \"Composite Number\")\n",
        "            break\n",
        "    else:\n",
        "        print(num[i], \"Prime Number\")\n",
        "  else:\n",
        "    print(num[i],\"Composite Number\")\n",
        "  i = i+1"
      ],
      "metadata": {
        "colab": {
          "base_uri": "https://localhost:8080/"
        },
        "id": "5KgF_AoeB0ff",
        "outputId": "47a4bfb2-2deb-4fa7-ce9f-089324ac8a72"
      },
      "execution_count": 64,
      "outputs": [
        {
          "output_type": "stream",
          "name": "stdout",
          "text": [
            "1 Composite Number\n",
            "2 Prime Number\n",
            "3 Prime Number\n",
            "4 Composite Number\n",
            "5 Prime Number\n",
            "6 Composite Number\n",
            "7 Prime Number\n",
            "8 Composite Number\n",
            "9 Composite Number\n",
            "10 Composite Number\n"
          ]
        }
      ]
    }
  ]
}